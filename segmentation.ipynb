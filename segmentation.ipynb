{
 "cells": [
  {
   "cell_type": "code",
   "execution_count": 1,
   "metadata": {},
   "outputs": [
    {
     "name": "stderr",
     "output_type": "stream",
     "text": [
      "/home2/siho0201/anaconda3/envs/dl/lib/python3.8/site-packages/tqdm/auto.py:22: TqdmWarning: IProgress not found. Please update jupyter and ipywidgets. See https://ipywidgets.readthedocs.io/en/stable/user_install.html\n",
      "  from .autonotebook import tqdm as notebook_tqdm\n"
     ]
    },
    {
     "name": "stdout",
     "output_type": "stream",
     "text": [
      "9. Selected device: cuda\n",
      "Current cuda device: 0\n",
      "Count of using GPUs: 4\n",
      "Using GPU :  True  |  Seed :  0\n",
      "Multi GPU activate\n"
     ]
    },
    {
     "name": "stderr",
     "output_type": "stream",
     "text": [
      "/home2/siho0201/anaconda3/envs/dl/lib/python3.8/site-packages/torch/nn/functional.py:3734: UserWarning: nn.functional.upsample is deprecated. Use nn.functional.interpolate instead.\n",
      "  warnings.warn(\"nn.functional.upsample is deprecated. Use nn.functional.interpolate instead.\")\n",
      "/home2/siho0201/anaconda3/envs/dl/lib/python3.8/site-packages/torch/nn/functional.py:1967: UserWarning: nn.functional.sigmoid is deprecated. Use torch.sigmoid instead.\n",
      "  warnings.warn(\"nn.functional.sigmoid is deprecated. Use torch.sigmoid instead.\")\n"
     ]
    }
   ],
   "source": [
    "# This code was created to check the results of the u2-net. Select a random value from the dataset\n",
    "# to store the model's input and output values and correct answer values.\n",
    "\n",
    "from function  import * \n",
    "import torch\n",
    "from random import *\n",
    "from model import U2NET \n",
    "from PIL import Image\n",
    "DEVICE = torch.device(\"cuda\" if torch.cuda.is_available() else \"cpu\")\n",
    "NGPU = torch.cuda.device_count()\n",
    "multi_gpu(\"1,2\")\n",
    "# random_seed(0)\n",
    "batch_size = 32\n",
    "#-------------------------DATA LOAD------------------------------\n",
    "label = []\n",
    "input = [] \n",
    "signal_name = ['LFM', 'Costas', 'Barker', 'Frank', 'P1', 'P2' ,'P3', 'P4', 'T1', 'T2', 'T3', 'T4'] # signal_type\n",
    "for i in range(-5,6): # all snr dataset\n",
    "            tx = sio.loadmat('./dataset-CWD-500(add_tx)/dataset_tx'+str(i*2))\n",
    "            rx = sio.loadmat('./dataset-CWD-500(add_tx)/dataset'+str(i*2))\n",
    "            for j in range(len(signal_name)):\n",
    "                label.extend(tx[signal_name[j]+'_tx'])\n",
    "                input.extend(rx[signal_name[j]])\n",
    "label = binaryzation(label)\n",
    "input = data_reshape(input) \n",
    "label = data_reshape(label)\n",
    "test_dataset = Test_data(input)\n",
    "label_dataset = label_data(label)\n",
    "testloader = DataLoader(test_dataset, batch_size=batch_size, shuffle =False)\n",
    "labelloader = DataLoader(label_dataset, batch_size=batch_size, shuffle =False)\n",
    "#-------------------------MODEL LOAD AND RUN ------------------------------\n",
    "net = U2NET(1,1) # model load\n",
    "if (DEVICE.type == 'cuda') and (torch.cuda.device_count() > 1):\n",
    "    print('Multi GPU activate')\n",
    "    net = nn.DataParallel(net, device_ids = list(range(NGPU)))\n",
    "net.to(DEVICE)\n",
    "path = \"U2net.pth\" \n",
    "net.load_state_dict(torch.load(path))\n",
    "inputs_arr = []\n",
    "outputs_arr = []\n",
    "answer_arr = []\n",
    "with torch.no_grad(): \n",
    "    for i, inputs in enumerate(testloader,0): \n",
    "        inputs = inputs.to(DEVICE)\n",
    "        # print(inputs.size())\n",
    "        d1,d2,d3,d4,d5,d6,d7 = net(inputs)\n",
    "        pred = d1\n",
    "        pred = normPRED(pred)\n",
    "        inputs_image = inputs.cpu().numpy()\n",
    "        outputs_image = pred.cpu().numpy()\n",
    "\n",
    "        inputs_arr.extend(inputs_image)\n",
    "        outputs_arr.extend(outputs_image)\n",
    "        \n",
    "    for i, labels in enumerate(labelloader,0): \n",
    "        labels = labels.to(DEVICE) \n",
    "        labels_image = labels.cpu().numpy()\n",
    "        answer_arr.extend(labels_image)\n"
   ]
  },
  {
   "cell_type": "code",
   "execution_count": null,
   "metadata": {},
   "outputs": [],
   "source": [
    "#-------------------------RESULT------------------------------ # save input image, output image, label image\n",
    "\n",
    "input_image= np.array(inputs_arr) \n",
    "input_image = np.squeeze(input_image,1)\n",
    "\n",
    "output_image= np.array(outputs_arr)\n",
    "output_image = np.squeeze(output_image,1)\n",
    "\n",
    "answer_image = np.array(answer_arr)\n",
    "answer_image = np.squeeze(answer_image)\n",
    "\n",
    "print('----------------------finish----------------------')"
   ]
  }
 ],
 "metadata": {
  "interpreter": {
   "hash": "cda127c41c1fd0d909b8213f3da9cc3937ab73497ca28109797b7c73d799870b"
  },
  "kernelspec": {
   "display_name": "Python 3.8.13 ('dl')",
   "language": "python",
   "name": "python3"
  },
  "language_info": {
   "codemirror_mode": {
    "name": "ipython",
    "version": 3
   },
   "file_extension": ".py",
   "mimetype": "text/x-python",
   "name": "python",
   "nbconvert_exporter": "python",
   "pygments_lexer": "ipython3",
   "version": "3.8.13"
  },
  "orig_nbformat": 4
 },
 "nbformat": 4,
 "nbformat_minor": 2
}
