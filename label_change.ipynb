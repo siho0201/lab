{
 "cells": [
  {
   "cell_type": "code",
   "execution_count": 8,
   "metadata": {},
   "outputs": [],
   "source": [
    "import pickle\n",
    "with open('/home/leesiho/matlab/lab/2/test_data/ANS_2_0_test.dat','rb') as f:\n",
    "        label = pickle.load(f)\n",
    "label.shape\n",
    "label[99,0:9] = [2,0,0,1,0,0,0,0,3]\n",
    "label[199,0:9] = [2,0,0,1,0,3,0,0,0]\n",
    "label[299,0:9] = [3,0,0,0,1,0,0,2,0]\n",
    "label[399,0:9] = [0,0,0,0,1,0,3,2,0]\n",
    "label[499,0:9] = [0,1,0,0,2,0,3,0,0]\n",
    "label[599,0:9] = [0,1,0,0,2,0,0,0,3]\n",
    "label[699,0:9] = [2,0,3,1,0,0,0,0,0]\n",
    "label[799,0:9] = [2,3,0,1,0,0,0,0,0]\n",
    "label[899,0:9] = [0,0,3,0,1,0,0,2,0]\n",
    "label[999,0:9] = [0,0,0,3,1,0,0,2,0]\n",
    "\n",
    "with open('/home/leesiho/matlab/lab/2/test_data/ANS_2_0_test.dat','wb') as f:\n",
    "    pickle.dump(label,f)"
   ]
  },
  {
   "cell_type": "code",
   "execution_count": 4,
   "metadata": {},
   "outputs": [
    {
     "ename": "FileNotFoundError",
     "evalue": "[Errno 2] No such file or directory: '/home/leesiho/matlab/lab/download_test/test_test_data/ANS_2_0_valid.dat'",
     "output_type": "error",
     "traceback": [
      "\u001b[0;31m---------------------------------------------------------------------------\u001b[0m",
      "\u001b[0;31mFileNotFoundError\u001b[0m                         Traceback (most recent call last)",
      "\u001b[1;32m/home/leesiho/gnuradio/lab/label_change.ipynb Cell 2'\u001b[0m in \u001b[0;36m<cell line: 2>\u001b[0;34m()\u001b[0m\n\u001b[1;32m      <a href='vscode-notebook-cell:/home/leesiho/gnuradio/lab/label_change.ipynb#ch0000001?line=0'>1</a>\u001b[0m \u001b[39mimport\u001b[39;00m \u001b[39mpickle\u001b[39;00m\n\u001b[0;32m----> <a href='vscode-notebook-cell:/home/leesiho/gnuradio/lab/label_change.ipynb#ch0000001?line=1'>2</a>\u001b[0m \u001b[39mwith\u001b[39;00m \u001b[39mopen\u001b[39;49m(\u001b[39m'\u001b[39;49m\u001b[39m/home/leesiho/matlab/lab/download_test/test_test_data/ANS_2_0_valid.dat\u001b[39;49m\u001b[39m'\u001b[39;49m,\u001b[39m'\u001b[39;49m\u001b[39mrb\u001b[39;49m\u001b[39m'\u001b[39;49m) \u001b[39mas\u001b[39;00m f:\n\u001b[1;32m      <a href='vscode-notebook-cell:/home/leesiho/gnuradio/lab/label_change.ipynb#ch0000001?line=2'>3</a>\u001b[0m         label \u001b[39m=\u001b[39m pickle\u001b[39m.\u001b[39mload(f)\n\u001b[1;32m      <a href='vscode-notebook-cell:/home/leesiho/gnuradio/lab/label_change.ipynb#ch0000001?line=3'>4</a>\u001b[0m label\u001b[39m.\u001b[39mshape\n",
      "\u001b[0;31mFileNotFoundError\u001b[0m: [Errno 2] No such file or directory: '/home/leesiho/matlab/lab/download_test/test_test_data/ANS_2_0_valid.dat'"
     ]
    }
   ],
   "source": [
    "import pickle\n",
    "with open('/home/leesiho/matlab/lab/download_test/test_test_data/ANS_2_0_valid.dat','rb') as f:\n",
    "        label = pickle.load(f)\n",
    "label.shape\n",
    "label[99,0:9] = [2,3,0,0,1,0,0,0,0]\n",
    "label[199,0:9] = [2,0,3,0,1,0,0,0,0]\n",
    "label[299,0:9] = [2,0,0,3,1,0,0,0,0]\n",
    "label[399,0:9] = [2,0,0,0,1,0,0,0,3]\n",
    "label[499,0:9] = [2,0,0,3,1,0,0,0,0]\n",
    "label[599,0:9] = [2,0,0,3,1,0,0,0,0]\n",
    "label[699,0:9] = [2,0,3,0,1,0,0,0,0]\n",
    "label[799,0:9] = [2,0,0,3,1,0,0,0,0]\n",
    "label[899,0:9] = [2,0,0,3,1,0,0,0,0]\n",
    "label[999,0:9] = [2,0,0,0,1,0,0,0,3]\n",
    "\n",
    "with open('/home/leesiho/matlab/lab/download_test/ANS_2_0_valid.dat','wb') as f:\n",
    "    pickle.dump(label,f)"
   ]
  },
  {
   "cell_type": "code",
   "execution_count": null,
   "metadata": {},
   "outputs": [],
   "source": []
  }
 ],
 "metadata": {
  "interpreter": {
   "hash": "c1e92dcb0a1acb67b1370856a52902ca8c01d25c4789de4f955bf4b287cb2fe5"
  },
  "kernelspec": {
   "display_name": "Python 3.9.12 ('base')",
   "language": "python",
   "name": "python3"
  },
  "language_info": {
   "codemirror_mode": {
    "name": "ipython",
    "version": 3
   },
   "file_extension": ".py",
   "mimetype": "text/x-python",
   "name": "python",
   "nbconvert_exporter": "python",
   "pygments_lexer": "ipython3",
   "version": "3.9.12"
  },
  "orig_nbformat": 4
 },
 "nbformat": 4,
 "nbformat_minor": 2
}
